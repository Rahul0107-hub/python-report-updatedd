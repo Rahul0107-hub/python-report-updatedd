{
 "cells": [
  {
   "cell_type": "code",
   "execution_count": 1,
   "id": "c95fcfcd-8e16-4022-854d-c39a00006770",
   "metadata": {},
   "outputs": [
    {
     "name": "stdin",
     "output_type": "stream",
     "text": [
      "Enter first number: 10\n",
      "Enter second number: 3\n"
     ]
    },
    {
     "name": "stdout",
     "output_type": "stream",
     "text": [
      "Addition: 13.0\n",
      "Subtraction: 7.0\n",
      "Multiplication: 30.0\n",
      "Division: 3.33\n",
      "Modulus: 1.0\n",
      "Exponentiation: 1000.0\n",
      "Floor Division: 3.0\n"
     ]
    }
   ],
   "source": [
    "#Question 1\n",
    "num1=float(input(\"Enter first number:\"))\n",
    "num2=float(input(\"Enter second number:\"))\n",
    "addition = num1 + num2 \n",
    "subtraction = num1 - num2 \n",
    "multiplication = num1 * num2 \n",
    "division = num1 / num2 \n",
    "modulus = num1 % num2 \n",
    "exponentiation = num1 ** num2 \n",
    "floor_division = num1 // num2\n",
    "print(f\"Addition: {addition}\") \n",
    "print(f\"Subtraction: {subtraction}\") \n",
    "print(f\"Multiplication: {multiplication}\") \n",
    "print(f\"Division: {division:.2f}\")   \n",
    "print(f\"Modulus: {modulus}\") \n",
    "print(f\"Exponentiation: {exponentiation}\") \n",
    "print(f\"Floor Division: {floor_division}\")"
   ]
  },
  {
   "cell_type": "code",
   "execution_count": 3,
   "id": "b82e614e-5218-4a1e-95e5-d737eee26014",
   "metadata": {},
   "outputs": [
    {
     "name": "stdin",
     "output_type": "stream",
     "text": [
      "Enter first number:  23\n",
      "Enter second number:  34\n"
     ]
    },
    {
     "name": "stdout",
     "output_type": "stream",
     "text": [
      "Is the first number greater than the second? False\n",
      "Is the first number equal to the second? False\n",
      "Is the first number less than or equal to the second? True\n"
     ]
    }
   ],
   "source": [
    "#Question 2\n",
    "num1 = float(input(\"Enter first number: \")) \n",
    "num2 = float(input(\"Enter second number: \")) \n",
    "greater_than = num1 > num2 \n",
    "equal_to = num1 == num2 \n",
    "less_than_or_equal = num1 <= num2 \n",
    "print(f\"Is the first number greater than the second? {greater_than}\") \n",
    "print(f\"Is the first number equal to the second? {equal_to}\") \n",
    "print(f\"Is the first number less than or equal to the second? {less_than_or_equal}\")\n"
   ]
  },
  {
   "cell_type": "code",
   "execution_count": 7,
   "id": "d0b8a626-ca7d-4d9c-a116-7ddc9eccfcff",
   "metadata": {},
   "outputs": [
    {
     "name": "stdin",
     "output_type": "stream",
     "text": [
      "Enter first boolean value (True/False):  True\n",
      "Enter second boolean value (True/False):  False\n",
      "Enter third boolean value (True/False):  True\n"
     ]
    },
    {
     "name": "stdout",
     "output_type": "stream",
     "text": [
      "AND result: False\n",
      "OR result: True\n",
      "NOT first boolean: False\n",
      "NOT second boolean: True\n",
      "NOT third boolean: False\n"
     ]
    }
   ],
   "source": [
    "#Question 3\n",
    "a = input(\"Enter first boolean value (True/False): \") == 'True' \n",
    "b = input(\"Enter second boolean value (True/False): \") == 'True' \n",
    "c = input(\"Enter third boolean value (True/False): \") == 'True' \n",
    "and_result = a and b and c \n",
    "or_result = a or b or c \n",
    "not_result1 = not a \n",
    "not_result2 = not b \n",
    "not_result3 = not c \n",
    "print(f\"AND result: {and_result}\") \n",
    "print(f\"OR result: {or_result}\") \n",
    "print(f\"NOT first boolean: {not_result1}\") \n",
    "print(f\"NOT second boolean: {not_result2}\") \n",
    "print(f\"NOT third boolean: {not_result3}\")\n"
   ]
  },
  {
   "cell_type": "code",
   "execution_count": 9,
   "id": "7db48f2d-e8a6-4488-9248-f8816ff09c40",
   "metadata": {},
   "outputs": [
    {
     "name": "stdin",
     "output_type": "stream",
     "text": [
      "Enter a string:  Rahul\n"
     ]
    },
    {
     "name": "stdout",
     "output_type": "stream",
     "text": [
      "Length of string: 5\n",
      "First character: R\n",
      "Last character: l\n",
      "Reversed string: luhaR\n",
      "Uppercase string: RAHUL\n",
      "Lowercase string: rahul\n"
     ]
    }
   ],
   "source": [
    "#Question 4\n",
    "user_string = input(\"Enter a string: \") \n",
    "string_length = len(user_string) \n",
    "first_character = user_string[0] \n",
    "last_character = user_string[-1] \n",
    "reversed_string = user_string[::-1] \n",
    "uppercase_string = user_string.upper() \n",
    "lowercase_string = user_string.lower() \n",
    "print(f\"Length of string: {string_length}\") \n",
    "print(f\"First character: {first_character}\") \n",
    "print(f\"Last character: {last_character}\") \n",
    "print(f\"Reversed string: {reversed_string}\") \n",
    "print(f\"Uppercase string: {uppercase_string}\") \n",
    "print(f\"Lowercase string: {lowercase_string}\")\n"
   ]
  },
  {
   "cell_type": "code",
   "execution_count": 11,
   "id": "4926f2d7-4b98-4704-8fd4-44df137fc10d",
   "metadata": {},
   "outputs": [
    {
     "name": "stdin",
     "output_type": "stream",
     "text": [
      "Enter your name:  Rahul\n",
      "Enter your age:  22\n"
     ]
    },
    {
     "name": "stdout",
     "output_type": "stream",
     "text": [
      "Hello Rahul, you are 22 years old.\n"
     ]
    }
   ],
   "source": [
    "#Question 5\n",
    "name = input(\"Enter your name: \") \n",
    "age = input(\"Enter your age: \")  \n",
    "print(f\"Hello {name}, you are {age} years old.\")\n"
   ]
  },
  {
   "cell_type": "code",
   "execution_count": 13,
   "id": "4593c58b-c76e-4561-b849-1c7b1f1708c0",
   "metadata": {},
   "outputs": [
    {
     "name": "stdin",
     "output_type": "stream",
     "text": [
      "Enter a sentence:  I am Student from MCA\n",
      "Enter a word to search for:  am\n"
     ]
    },
    {
     "name": "stdout",
     "output_type": "stream",
     "text": [
      "The word 'am' exists in the sentence at index 2.\n"
     ]
    }
   ],
   "source": [
    "#Question 6\n",
    "sentence = input(\"Enter a sentence: \")\n",
    "word_to_search = input(\"Enter a word to search for: \")\n",
    "if word_to_search in sentence:\n",
    "    # Find the index of the word\n",
    "    index = sentence.find(word_to_search)\n",
    "    print(f\"The word '{word_to_search}' exists in the sentence at index {index}.\")\n",
    "else:\n",
    "    print(f\"The word '{word_to_search}' does not exist in the sentence.\")\n"
   ]
  },
  {
   "cell_type": "code",
   "execution_count": 25,
   "id": "70093ad1-dc99-4f79-8a9d-80046e575b90",
   "metadata": {},
   "outputs": [
    {
     "name": "stdin",
     "output_type": "stream",
     "text": [
      "Enter number 1:  12\n",
      "Enter number 2:  23\n",
      "Enter number 3:  34\n",
      "Enter number 4:  45\n",
      "Enter number 5:  56\n"
     ]
    },
    {
     "name": "stdout",
     "output_type": "stream",
     "text": [
      "List of numbers: [12.0, 23.0, 34.0, 45.0, 56.0]\n",
      "Sum of the numbers: 170.0\n",
      "Largest number: 56.0\n",
      "Smallest number: 12.0\n"
     ]
    }
   ],
   "source": [
    "#Question 7\n",
    "numbers = []\n",
    "for i in range(5):\n",
    "    number = float(input(f\"Enter number {i+1}: \"))\n",
    "    numbers.append(number)\n",
    "sum_of_numbers = sum(numbers)\n",
    "largest_number = max(numbers)\n",
    "smallest_number = min(numbers)\n",
    "print(\"List of numbers:\", numbers)\n",
    "print(\"Sum of the numbers:\", sum_of_numbers)\n",
    "print(\"Largest number:\", largest_number)\n",
    "print(\"Smallest number:\", smallest_number)\n"
   ]
  },
  {
   "cell_type": "code",
   "execution_count": 27,
   "id": "97fb308c-3079-402c-8dd4-4beab39dc48b",
   "metadata": {},
   "outputs": [
    {
     "name": "stdout",
     "output_type": "stream",
     "text": [
      "Updated fruit list: ['Apple', 'Cherry', 'Mango', 'Orange', 'Pineapple']\n"
     ]
    }
   ],
   "source": [
    "#Question 8\n",
    "fruits = [\"Apple\", \"Banana\", \"Cherry\", \"Mango\", \"Orange\"] \n",
    "fruits.append(\"Pineapple\") \n",
    "fruits.pop(1)  \n",
    "print(f\"Updated fruit list: {fruits}\")\n"
   ]
  },
  {
   "cell_type": "code",
   "execution_count": 29,
   "id": "d29de2a6-ad08-4d64-a982-82dbf1102af6",
   "metadata": {},
   "outputs": [
    {
     "name": "stdin",
     "output_type": "stream",
     "text": [
      "Enter number 1:  12\n",
      "Enter number 2:  34\n",
      "Enter number 3:  56\n",
      "Enter number 4:  67\n",
      "Enter number 5:  78\n"
     ]
    },
    {
     "name": "stdout",
     "output_type": "stream",
     "text": [
      "List in ascending order: [12.0, 34.0, 56.0, 67.0, 78.0]\n",
      "List in descending order: [78.0, 67.0, 56.0, 34.0, 12.0]\n"
     ]
    }
   ],
   "source": [
    "#Question 9\n",
    "numbers = []\n",
    "for i in range(5):\n",
    "    number = float(input(f\"Enter number {i+1}: \"))\n",
    "    numbers.append(number)\n",
    "numbers_ascending = sorted(numbers)\n",
    "print(\"List in ascending order:\", numbers_ascending)\n",
    "numbers_descending = sorted(numbers, reverse=True)\n",
    "print(\"List in descending order:\", numbers_descending)\n"
   ]
  },
  {
   "cell_type": "code",
   "execution_count": 31,
   "id": "d686cfdc-49a4-41a3-81fb-7cf4f4b27d1a",
   "metadata": {},
   "outputs": [
    {
     "name": "stdout",
     "output_type": "stream",
     "text": [
      "First 5 elements: [1, 2, 3, 4, 5]\n",
      "Last 5 elements: [6, 7, 8, 9, 10]\n",
      "Elements from index 2 to 7: [3, 4, 5, 6, 7, 8]\n"
     ]
    }
   ],
   "source": [
    "#Question 10\n",
    "n = [1, 2, 3, 4, 5, 6, 7, 8, 9, 10] \n",
    "print(f\"First 5 elements: {n[:5]}\") \n",
    "print(f\"Last 5 elements: {n[-5:]}\")  \n",
    "print(f\"Elements from index 2 to 7: {n[2:8]}\")\n"
   ]
  },
  {
   "cell_type": "code",
   "execution_count": 33,
   "id": "59d94b6d-899b-46f6-a733-7f3d5899aad1",
   "metadata": {},
   "outputs": [
    {
     "name": "stdin",
     "output_type": "stream",
     "text": [
      "Enter the name of student 1:  Rahul\n",
      "Enter score for subject 1 for Rahul:  89\n",
      "Enter score for subject 2 for Rahul:  90\n",
      "Enter score for subject 3 for Rahul:  87\n",
      "Enter the name of student 2:  Bharath\n",
      "Enter score for subject 1 for Bharath:  76\n",
      "Enter score for subject 2 for Bharath:  89\n",
      "Enter score for subject 3 for Bharath:  88\n",
      "Enter the name of student 3:  Komali\n",
      "Enter score for subject 1 for Komali:  88\n",
      "Enter score for subject 2 for Komali:  77\n",
      "Enter score for subject 3 for Komali:  80\n"
     ]
    },
    {
     "name": "stdout",
     "output_type": "stream",
     "text": [
      "Rahul's average score: 88.67\n",
      "Bharath's average score: 84.33\n",
      "Komali's average score: 81.67\n"
     ]
    }
   ],
   "source": [
    "#Question 11\n",
    "student_data = []\n",
    "for i in range(3):\n",
    "    name = input(f\"Enter the name of student {i+1}: \")\n",
    "    scores = []\n",
    "    for j in range(3):\n",
    "        score = float(input(f\"Enter score for subject {j+1} for {name}: \"))\n",
    "        scores.append(score)\n",
    "    student_data.append([name, scores])\n",
    "for student in student_data:\n",
    "    name = student[0]\n",
    "    scores = student[1]\n",
    "    average_score = sum(scores) / len(scores)\n",
    "    print(f\"{name}'s average score: {average_score:.2f}\")\n"
   ]
  },
  {
   "cell_type": "code",
   "execution_count": null,
   "id": "a12aa38e-0667-40d2-a3dd-459366e6fde5",
   "metadata": {},
   "outputs": [],
   "source": [
    "\n",
    "\n"
   ]
  },
  {
   "cell_type": "code",
   "execution_count": null,
   "id": "36dc6a79-0829-4a63-af11-e716c356b369",
   "metadata": {},
   "outputs": [],
   "source": []
  }
 ],
 "metadata": {
  "kernelspec": {
   "display_name": "Python 3 (ipykernel)",
   "language": "python",
   "name": "python3"
  },
  "language_info": {
   "codemirror_mode": {
    "name": "ipython",
    "version": 3
   },
   "file_extension": ".py",
   "mimetype": "text/x-python",
   "name": "python",
   "nbconvert_exporter": "python",
   "pygments_lexer": "ipython3",
   "version": "3.12.4"
  }
 },
 "nbformat": 4,
 "nbformat_minor": 5
}
